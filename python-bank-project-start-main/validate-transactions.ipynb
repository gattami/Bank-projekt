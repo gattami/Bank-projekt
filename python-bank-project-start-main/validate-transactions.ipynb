{
 "cells": [
  {
   "cell_type": "code",
   "id": "9b161146e31e5eaa",
   "metadata": {
    "ExecuteTime": {
     "end_time": "2025-05-28T13:05:04.522279Z",
     "start_time": "2025-05-28T13:05:03.906602Z"
    }
   },
   "source": [
    "import great_expectations as gx\n",
    "import pandas as pd\n",
    "import warnings\n",
    "warnings.filterwarnings(\"ignore\", message=\"`result_format` configured at the Validator-level*\")\n",
    "\n",
    "# Load the data\n",
    "df = pd.read_csv(\"./data/transactions.csv\")\n",
    "\n",
    "# Create the ephemeral GX context\n",
    "context = gx.get_context()\n",
    "\n",
    "# Add a pandas datasource\n",
    "data_source = context.data_sources.add_pandas(name=\"pandas\")\n",
    "\n",
    "# Add a dataframe asset\n",
    "data_asset = data_source.add_dataframe_asset(name=\"transactions_data\")\n",
    "\n",
    "# Define the batch (entire DataFrame)\n",
    "batch_definition = data_asset.add_batch_definition_whole_dataframe(name=\"batch_def\")\n",
    "batch = batch_definition.get_batch(batch_parameters={\"dataframe\": df})\n",
    "\n",
    "# Create the expectation suite with a name\n",
    "suite = gx.core.expectation_suite.ExpectationSuite(name=\"transactions_suite\")\n",
    "\n",
    "# Get the validator using the suite\n",
    "validator = context.get_validator(batch=batch, expectation_suite=suite)\n",
    "\n",
    "# Add expectations\n",
    "validator.expect_column_values_to_be_between(\"amount\", min_value=0.01, max_value=100000.0)\n",
    "\n",
    "# Validate\n",
    "results = validator.validate()\n",
    "\n",
    "# Print results\n",
    "print(results)\n"
   ],
   "outputs": [
    {
     "data": {
      "text/plain": [
       "Calculating Metrics:   0%|          | 0/8 [00:00<?, ?it/s]"
      ],
      "application/vnd.jupyter.widget-view+json": {
       "version_major": 2,
       "version_minor": 0,
       "model_id": "f89cfc423f2a475f975b7d7360f65d2f"
      }
     },
     "metadata": {},
     "output_type": "display_data"
    },
    {
     "data": {
      "text/plain": [
       "Calculating Metrics:   0%|          | 0/8 [00:00<?, ?it/s]"
      ],
      "application/vnd.jupyter.widget-view+json": {
       "version_major": 2,
       "version_minor": 0,
       "model_id": "1ec7524259984353b3bd7a3f0424c064"
      }
     },
     "metadata": {},
     "output_type": "display_data"
    },
    {
     "name": "stdout",
     "output_type": "stream",
     "text": [
      "{\n",
      "  \"success\": true,\n",
      "  \"results\": [\n",
      "    {\n",
      "      \"success\": true,\n",
      "      \"expectation_config\": {\n",
      "        \"type\": \"expect_column_values_to_be_between\",\n",
      "        \"kwargs\": {\n",
      "          \"batch_id\": \"pandas-transactions_data\",\n",
      "          \"column\": \"amount\",\n",
      "          \"min_value\": 0.01,\n",
      "          \"max_value\": 100000.0\n",
      "        },\n",
      "        \"meta\": {}\n",
      "      },\n",
      "      \"result\": {\n",
      "        \"element_count\": 100000,\n",
      "        \"unexpected_count\": 0,\n",
      "        \"unexpected_percent\": 0.0,\n",
      "        \"partial_unexpected_list\": [],\n",
      "        \"missing_count\": 0,\n",
      "        \"missing_percent\": 0.0,\n",
      "        \"unexpected_percent_total\": 0.0,\n",
      "        \"unexpected_percent_nonmissing\": 0.0\n",
      "      },\n",
      "      \"meta\": {},\n",
      "      \"exception_info\": {\n",
      "        \"raised_exception\": false,\n",
      "        \"exception_traceback\": null,\n",
      "        \"exception_message\": null\n",
      "      }\n",
      "    }\n",
      "  ],\n",
      "  \"suite_name\": \"transactions_suite\",\n",
      "  \"suite_parameters\": {},\n",
      "  \"statistics\": {\n",
      "    \"evaluated_expectations\": 1,\n",
      "    \"successful_expectations\": 1,\n",
      "    \"unsuccessful_expectations\": 0,\n",
      "    \"success_percent\": 100.0\n",
      "  },\n",
      "  \"meta\": {\n",
      "    \"great_expectations_version\": \"1.4.4\",\n",
      "    \"expectation_suite_name\": \"transactions_suite\",\n",
      "    \"run_id\": {\n",
      "      \"run_name\": null,\n",
      "      \"run_time\": \"2025-05-28T15:05:04.479569+02:00\"\n",
      "    },\n",
      "    \"batch_spec\": {\n",
      "      \"batch_data\": \"PandasDataFrame\"\n",
      "    },\n",
      "    \"batch_markers\": {\n",
      "      \"ge_load_time\": \"20250528T130504.295925Z\",\n",
      "      \"pandas_data_fingerprint\": \"d2ca6375fc762fd7b8aa4b0b347af3f5\"\n",
      "    },\n",
      "    \"active_batch_definition\": {\n",
      "      \"datasource_name\": \"pandas\",\n",
      "      \"data_connector_name\": \"fluent\",\n",
      "      \"data_asset_name\": \"transactions_data\",\n",
      "      \"batch_identifiers\": {\n",
      "        \"dataframe\": \"<DATAFRAME>\"\n",
      "      }\n",
      "    },\n",
      "    \"validation_time\": \"20250528T130504.479038Z\",\n",
      "    \"checkpoint_name\": null\n",
      "  },\n",
      "  \"id\": null\n",
      "}\n"
     ]
    }
   ],
   "execution_count": 2
  },
  {
   "metadata": {
    "ExecuteTime": {
     "end_time": "2025-05-28T20:12:14.358573Z",
     "start_time": "2025-05-28T20:12:13.605243Z"
    }
   },
   "cell_type": "code",
   "source": [
    "import great_expectations as gx\n",
    "import pandas as pd\n",
    "import warnings\n",
    "warnings.filterwarnings(\"ignore\", message=\"`result_format` configured at the Validator-level*\")\n",
    "\n",
    "# Load the data\n",
    "df = pd.read_csv(\"./data/transactions.csv\", parse_dates=[\"timestamp\"])\n",
    "\n",
    "# Create the ephemeral GX context\n",
    "context = gx.get_context()\n",
    "\n",
    "# Add a pandas datasource\n",
    "data_source = context.data_sources.add_pandas(name=\"pandas\")\n",
    "\n",
    "# Add a dataframe asset\n",
    "data_asset = data_source.add_dataframe_asset(name=\"transactions_data\")\n",
    "\n",
    "# Define the batch (entire DataFrame)\n",
    "batch_definition = data_asset.add_batch_definition_whole_dataframe(name=\"batch_def\")\n",
    "batch = batch_definition.get_batch(batch_parameters={\"dataframe\": df})\n",
    "\n",
    "# Create the expectation suite with a name\n",
    "suite = gx.core.expectation_suite.ExpectationSuite(name=\"transactions_suite\")\n",
    "\n",
    "# Get the validator using the suite\n",
    "validator = context.get_validator(batch=batch, expectation_suite=suite)\n",
    "\n",
    "# Add expectations\n",
    "validator.expect_column_values_to_be_between(\"amount\", min_value=0.01, max_value=50000.0)\n",
    "\n",
    "# Lägg till fler förväntningar baserat på CSV-datastruktur\n",
    "\n",
    "# Ej null-värden för viktiga kolumner\n",
    "validator.expect_column_values_to_not_be_null(\"transaction_id\")\n",
    "validator.expect_column_values_to_not_be_null(\"timestamp\")\n",
    "validator.expect_column_values_to_not_be_null(\"amount\")\n",
    "validator.expect_column_values_to_not_be_null(\"currency\")\n",
    "validator.expect_column_values_to_not_be_null(\"sender_account\")\n",
    "validator.expect_column_values_to_not_be_null(\"receiver_account\")\n",
    "validator.expect_column_values_to_not_be_null(\"sender_country\")\n",
    "validator.expect_column_values_to_not_be_null(\"transaction_type\")\n",
    "\n",
    "#  testa mot datatyper: object (str)\n",
    "validator.expect_column_values_to_be_of_type(\"transaction_id\", \"object\") # uuid som sträng\n",
    "validator.expect_column_values_to_be_of_type(\"timestamp\", \"datetime64[ns]\") # Eller \"datetime\"\n",
    "validator.expect_column_values_to_be_of_type(\"amount\", \"float64\") # Kan vara float\n",
    "validator.expect_column_values_to_be_of_type(\"currency\", \"object\")\n",
    "validator.expect_column_values_to_be_of_type(\"sender_account\", \"object\")\n",
    "validator.expect_column_values_to_be_of_type(\"receiver_account\", \"object\")\n",
    "validator.expect_column_values_to_be_of_type(\"sender_country\", \"object\")\n",
    "validator.expect_column_values_to_be_of_type(\"receiver_country\", \"object\")\n",
    "validator.expect_column_values_to_be_of_type(\"transaction_type\", \"object\")\n",
    "validator.expect_column_values_to_be_of_type(\"notes\", \"object\")\n",
    "\n",
    "# Specifika affärsregler/format\n",
    "validator.expect_column_values_to_be_unique(\"transaction_id\") # Transaktions-ID bör vara unikt\n",
    "validator.expect_column_distinct_values_to_be_in_set(\"currency\", [\"SEK\", \"USD\", \"EUR\", \"GBP\"]) # Kända valutor\n",
    "\n",
    "# Validate\n",
    "results = validator.validate()\n",
    "\n",
    "# Print results\n",
    "print(results)\n"
   ],
   "id": "6fb659c535a86a45",
   "outputs": [
    {
     "data": {
      "text/plain": [
       "Calculating Metrics:   0%|          | 0/8 [00:00<?, ?it/s]"
      ],
      "application/vnd.jupyter.widget-view+json": {
       "version_major": 2,
       "version_minor": 0,
       "model_id": "193482a37c054444a63b4ff0c417c823"
      }
     },
     "metadata": {},
     "output_type": "display_data"
    },
    {
     "data": {
      "text/plain": [
       "Calculating Metrics:   0%|          | 0/6 [00:00<?, ?it/s]"
      ],
      "application/vnd.jupyter.widget-view+json": {
       "version_major": 2,
       "version_minor": 0,
       "model_id": "618cf0ae350246048bc94f0652c1a74a"
      }
     },
     "metadata": {},
     "output_type": "display_data"
    },
    {
     "data": {
      "text/plain": [
       "Calculating Metrics:   0%|          | 0/6 [00:00<?, ?it/s]"
      ],
      "application/vnd.jupyter.widget-view+json": {
       "version_major": 2,
       "version_minor": 0,
       "model_id": "9703dae2b83b404183ae9c718ad9f3e9"
      }
     },
     "metadata": {},
     "output_type": "display_data"
    },
    {
     "data": {
      "text/plain": [
       "Calculating Metrics:   0%|          | 0/6 [00:00<?, ?it/s]"
      ],
      "application/vnd.jupyter.widget-view+json": {
       "version_major": 2,
       "version_minor": 0,
       "model_id": "182102ae39f74a10b7788c09cf6c8224"
      }
     },
     "metadata": {},
     "output_type": "display_data"
    },
    {
     "data": {
      "text/plain": [
       "Calculating Metrics:   0%|          | 0/6 [00:00<?, ?it/s]"
      ],
      "application/vnd.jupyter.widget-view+json": {
       "version_major": 2,
       "version_minor": 0,
       "model_id": "d478790ca6fd4cab96912bcda6619a94"
      }
     },
     "metadata": {},
     "output_type": "display_data"
    },
    {
     "data": {
      "text/plain": [
       "Calculating Metrics:   0%|          | 0/6 [00:00<?, ?it/s]"
      ],
      "application/vnd.jupyter.widget-view+json": {
       "version_major": 2,
       "version_minor": 0,
       "model_id": "07e4ad8e5d044284b77da003bebe039f"
      }
     },
     "metadata": {},
     "output_type": "display_data"
    },
    {
     "data": {
      "text/plain": [
       "Calculating Metrics:   0%|          | 0/6 [00:00<?, ?it/s]"
      ],
      "application/vnd.jupyter.widget-view+json": {
       "version_major": 2,
       "version_minor": 0,
       "model_id": "2718e4498fa949b387b91175a392712c"
      }
     },
     "metadata": {},
     "output_type": "display_data"
    },
    {
     "data": {
      "text/plain": [
       "Calculating Metrics:   0%|          | 0/6 [00:00<?, ?it/s]"
      ],
      "application/vnd.jupyter.widget-view+json": {
       "version_major": 2,
       "version_minor": 0,
       "model_id": "52609166ca804f1a9042dffc895e25d4"
      }
     },
     "metadata": {},
     "output_type": "display_data"
    },
    {
     "data": {
      "text/plain": [
       "Calculating Metrics:   0%|          | 0/6 [00:00<?, ?it/s]"
      ],
      "application/vnd.jupyter.widget-view+json": {
       "version_major": 2,
       "version_minor": 0,
       "model_id": "157c55bae52240699e81d28e10c8aed9"
      }
     },
     "metadata": {},
     "output_type": "display_data"
    },
    {
     "data": {
      "text/plain": [
       "Calculating Metrics:   0%|          | 0/1 [00:00<?, ?it/s]"
      ],
      "application/vnd.jupyter.widget-view+json": {
       "version_major": 2,
       "version_minor": 0,
       "model_id": "a757211bb7a342a7a2420af4473ce3cc"
      }
     },
     "metadata": {},
     "output_type": "display_data"
    },
    {
     "data": {
      "text/plain": [
       "Calculating Metrics:   0%|          | 0/1 [00:00<?, ?it/s]"
      ],
      "application/vnd.jupyter.widget-view+json": {
       "version_major": 2,
       "version_minor": 0,
       "model_id": "79d172b075cd413c88a901ad2f298dea"
      }
     },
     "metadata": {},
     "output_type": "display_data"
    },
    {
     "data": {
      "text/plain": [
       "Calculating Metrics:   0%|          | 0/1 [00:00<?, ?it/s]"
      ],
      "application/vnd.jupyter.widget-view+json": {
       "version_major": 2,
       "version_minor": 0,
       "model_id": "9fd90c77b00a42949ba71454a76c88b2"
      }
     },
     "metadata": {},
     "output_type": "display_data"
    },
    {
     "data": {
      "text/plain": [
       "Calculating Metrics:   0%|          | 0/1 [00:00<?, ?it/s]"
      ],
      "application/vnd.jupyter.widget-view+json": {
       "version_major": 2,
       "version_minor": 0,
       "model_id": "3bb18345136248458d10be7709d1c565"
      }
     },
     "metadata": {},
     "output_type": "display_data"
    },
    {
     "data": {
      "text/plain": [
       "Calculating Metrics:   0%|          | 0/1 [00:00<?, ?it/s]"
      ],
      "application/vnd.jupyter.widget-view+json": {
       "version_major": 2,
       "version_minor": 0,
       "model_id": "403f541c87944d419df02d89be437cfc"
      }
     },
     "metadata": {},
     "output_type": "display_data"
    },
    {
     "data": {
      "text/plain": [
       "Calculating Metrics:   0%|          | 0/1 [00:00<?, ?it/s]"
      ],
      "application/vnd.jupyter.widget-view+json": {
       "version_major": 2,
       "version_minor": 0,
       "model_id": "b6ed015fd88c47429b00d589581051ec"
      }
     },
     "metadata": {},
     "output_type": "display_data"
    },
    {
     "data": {
      "text/plain": [
       "Calculating Metrics:   0%|          | 0/1 [00:00<?, ?it/s]"
      ],
      "application/vnd.jupyter.widget-view+json": {
       "version_major": 2,
       "version_minor": 0,
       "model_id": "94b1e5e9d775428597e65e628be08076"
      }
     },
     "metadata": {},
     "output_type": "display_data"
    },
    {
     "data": {
      "text/plain": [
       "Calculating Metrics:   0%|          | 0/1 [00:00<?, ?it/s]"
      ],
      "application/vnd.jupyter.widget-view+json": {
       "version_major": 2,
       "version_minor": 0,
       "model_id": "4471c76440094bdda2334b7176bb86a3"
      }
     },
     "metadata": {},
     "output_type": "display_data"
    },
    {
     "data": {
      "text/plain": [
       "Calculating Metrics:   0%|          | 0/1 [00:00<?, ?it/s]"
      ],
      "application/vnd.jupyter.widget-view+json": {
       "version_major": 2,
       "version_minor": 0,
       "model_id": "5170500d6a0f4f2fb8720a69df2d442e"
      }
     },
     "metadata": {},
     "output_type": "display_data"
    },
    {
     "data": {
      "text/plain": [
       "Calculating Metrics:   0%|          | 0/1 [00:00<?, ?it/s]"
      ],
      "application/vnd.jupyter.widget-view+json": {
       "version_major": 2,
       "version_minor": 0,
       "model_id": "38f252f11eab42fa846427b155eccdec"
      }
     },
     "metadata": {},
     "output_type": "display_data"
    },
    {
     "data": {
      "text/plain": [
       "Calculating Metrics:   0%|          | 0/8 [00:00<?, ?it/s]"
      ],
      "application/vnd.jupyter.widget-view+json": {
       "version_major": 2,
       "version_minor": 0,
       "model_id": "7dd3a06e473d4d29b57605021cf11a03"
      }
     },
     "metadata": {},
     "output_type": "display_data"
    },
    {
     "data": {
      "text/plain": [
       "Calculating Metrics:   0%|          | 0/4 [00:00<?, ?it/s]"
      ],
      "application/vnd.jupyter.widget-view+json": {
       "version_major": 2,
       "version_minor": 0,
       "model_id": "3132db2bf84e4c458b3bd1cddf44acce"
      }
     },
     "metadata": {},
     "output_type": "display_data"
    },
    {
     "data": {
      "text/plain": [
       "Calculating Metrics:   0%|          | 0/35 [00:00<?, ?it/s]"
      ],
      "application/vnd.jupyter.widget-view+json": {
       "version_major": 2,
       "version_minor": 0,
       "model_id": "856f273fa39a4e2780c9fc89ee2b92f6"
      }
     },
     "metadata": {},
     "output_type": "display_data"
    },
    {
     "name": "stdout",
     "output_type": "stream",
     "text": [
      "{\n",
      "  \"success\": false,\n",
      "  \"results\": [\n",
      "    {\n",
      "      \"success\": true,\n",
      "      \"expectation_config\": {\n",
      "        \"type\": \"expect_column_values_to_be_between\",\n",
      "        \"kwargs\": {\n",
      "          \"batch_id\": \"pandas-transactions_data\",\n",
      "          \"column\": \"amount\",\n",
      "          \"min_value\": 0.01,\n",
      "          \"max_value\": 50000.0\n",
      "        },\n",
      "        \"meta\": {}\n",
      "      },\n",
      "      \"result\": {\n",
      "        \"element_count\": 100000,\n",
      "        \"unexpected_count\": 0,\n",
      "        \"unexpected_percent\": 0.0,\n",
      "        \"partial_unexpected_list\": [],\n",
      "        \"missing_count\": 0,\n",
      "        \"missing_percent\": 0.0,\n",
      "        \"unexpected_percent_total\": 0.0,\n",
      "        \"unexpected_percent_nonmissing\": 0.0\n",
      "      },\n",
      "      \"meta\": {},\n",
      "      \"exception_info\": {\n",
      "        \"raised_exception\": false,\n",
      "        \"exception_traceback\": null,\n",
      "        \"exception_message\": null\n",
      "      }\n",
      "    },\n",
      "    {\n",
      "      \"success\": true,\n",
      "      \"expectation_config\": {\n",
      "        \"type\": \"expect_column_values_to_not_be_null\",\n",
      "        \"kwargs\": {\n",
      "          \"batch_id\": \"pandas-transactions_data\",\n",
      "          \"column\": \"amount\"\n",
      "        },\n",
      "        \"meta\": {}\n",
      "      },\n",
      "      \"result\": {\n",
      "        \"element_count\": 100000,\n",
      "        \"unexpected_count\": 0,\n",
      "        \"unexpected_percent\": 0.0,\n",
      "        \"partial_unexpected_list\": []\n",
      "      },\n",
      "      \"meta\": {},\n",
      "      \"exception_info\": {\n",
      "        \"raised_exception\": false,\n",
      "        \"exception_traceback\": null,\n",
      "        \"exception_message\": null\n",
      "      }\n",
      "    },\n",
      "    {\n",
      "      \"success\": true,\n",
      "      \"expectation_config\": {\n",
      "        \"type\": \"expect_column_values_to_be_of_type\",\n",
      "        \"kwargs\": {\n",
      "          \"batch_id\": \"pandas-transactions_data\",\n",
      "          \"column\": \"amount\",\n",
      "          \"type_\": \"float64\"\n",
      "        },\n",
      "        \"meta\": {}\n",
      "      },\n",
      "      \"result\": {\n",
      "        \"observed_value\": \"float64\"\n",
      "      },\n",
      "      \"meta\": {},\n",
      "      \"exception_info\": {\n",
      "        \"raised_exception\": false,\n",
      "        \"exception_traceback\": null,\n",
      "        \"exception_message\": null\n",
      "      }\n",
      "    },\n",
      "    {\n",
      "      \"success\": true,\n",
      "      \"expectation_config\": {\n",
      "        \"type\": \"expect_column_values_to_not_be_null\",\n",
      "        \"kwargs\": {\n",
      "          \"batch_id\": \"pandas-transactions_data\",\n",
      "          \"column\": \"transaction_id\"\n",
      "        },\n",
      "        \"meta\": {}\n",
      "      },\n",
      "      \"result\": {\n",
      "        \"element_count\": 100000,\n",
      "        \"unexpected_count\": 0,\n",
      "        \"unexpected_percent\": 0.0,\n",
      "        \"partial_unexpected_list\": []\n",
      "      },\n",
      "      \"meta\": {},\n",
      "      \"exception_info\": {\n",
      "        \"raised_exception\": false,\n",
      "        \"exception_traceback\": null,\n",
      "        \"exception_message\": null\n",
      "      }\n",
      "    },\n",
      "    {\n",
      "      \"success\": true,\n",
      "      \"expectation_config\": {\n",
      "        \"type\": \"expect_column_values_to_be_of_type\",\n",
      "        \"kwargs\": {\n",
      "          \"batch_id\": \"pandas-transactions_data\",\n",
      "          \"column\": \"transaction_id\",\n",
      "          \"type_\": \"object\"\n",
      "        },\n",
      "        \"meta\": {}\n",
      "      },\n",
      "      \"result\": {\n",
      "        \"observed_value\": \"object_\"\n",
      "      },\n",
      "      \"meta\": {},\n",
      "      \"exception_info\": {\n",
      "        \"raised_exception\": false,\n",
      "        \"exception_traceback\": null,\n",
      "        \"exception_message\": null\n",
      "      }\n",
      "    },\n",
      "    {\n",
      "      \"success\": true,\n",
      "      \"expectation_config\": {\n",
      "        \"type\": \"expect_column_values_to_be_unique\",\n",
      "        \"kwargs\": {\n",
      "          \"batch_id\": \"pandas-transactions_data\",\n",
      "          \"column\": \"transaction_id\"\n",
      "        },\n",
      "        \"meta\": {}\n",
      "      },\n",
      "      \"result\": {\n",
      "        \"element_count\": 100000,\n",
      "        \"unexpected_count\": 0,\n",
      "        \"unexpected_percent\": 0.0,\n",
      "        \"partial_unexpected_list\": [],\n",
      "        \"missing_count\": 0,\n",
      "        \"missing_percent\": 0.0,\n",
      "        \"unexpected_percent_total\": 0.0,\n",
      "        \"unexpected_percent_nonmissing\": 0.0\n",
      "      },\n",
      "      \"meta\": {},\n",
      "      \"exception_info\": {\n",
      "        \"raised_exception\": false,\n",
      "        \"exception_traceback\": null,\n",
      "        \"exception_message\": null\n",
      "      }\n",
      "    },\n",
      "    {\n",
      "      \"success\": true,\n",
      "      \"expectation_config\": {\n",
      "        \"type\": \"expect_column_values_to_not_be_null\",\n",
      "        \"kwargs\": {\n",
      "          \"batch_id\": \"pandas-transactions_data\",\n",
      "          \"column\": \"timestamp\"\n",
      "        },\n",
      "        \"meta\": {}\n",
      "      },\n",
      "      \"result\": {\n",
      "        \"element_count\": 100000,\n",
      "        \"unexpected_count\": 0,\n",
      "        \"unexpected_percent\": 0.0,\n",
      "        \"partial_unexpected_list\": []\n",
      "      },\n",
      "      \"meta\": {},\n",
      "      \"exception_info\": {\n",
      "        \"raised_exception\": false,\n",
      "        \"exception_traceback\": null,\n",
      "        \"exception_message\": null\n",
      "      }\n",
      "    },\n",
      "    {\n",
      "      \"success\": true,\n",
      "      \"expectation_config\": {\n",
      "        \"type\": \"expect_column_values_to_be_of_type\",\n",
      "        \"kwargs\": {\n",
      "          \"batch_id\": \"pandas-transactions_data\",\n",
      "          \"column\": \"timestamp\",\n",
      "          \"type_\": \"datetime64[ns]\"\n",
      "        },\n",
      "        \"meta\": {}\n",
      "      },\n",
      "      \"result\": {\n",
      "        \"observed_value\": \"datetime64\"\n",
      "      },\n",
      "      \"meta\": {},\n",
      "      \"exception_info\": {\n",
      "        \"raised_exception\": false,\n",
      "        \"exception_traceback\": null,\n",
      "        \"exception_message\": null\n",
      "      }\n",
      "    },\n",
      "    {\n",
      "      \"success\": true,\n",
      "      \"expectation_config\": {\n",
      "        \"type\": \"expect_column_values_to_not_be_null\",\n",
      "        \"kwargs\": {\n",
      "          \"batch_id\": \"pandas-transactions_data\",\n",
      "          \"column\": \"currency\"\n",
      "        },\n",
      "        \"meta\": {}\n",
      "      },\n",
      "      \"result\": {\n",
      "        \"element_count\": 100000,\n",
      "        \"unexpected_count\": 0,\n",
      "        \"unexpected_percent\": 0.0,\n",
      "        \"partial_unexpected_list\": []\n",
      "      },\n",
      "      \"meta\": {},\n",
      "      \"exception_info\": {\n",
      "        \"raised_exception\": false,\n",
      "        \"exception_traceback\": null,\n",
      "        \"exception_message\": null\n",
      "      }\n",
      "    },\n",
      "    {\n",
      "      \"success\": true,\n",
      "      \"expectation_config\": {\n",
      "        \"type\": \"expect_column_values_to_be_of_type\",\n",
      "        \"kwargs\": {\n",
      "          \"batch_id\": \"pandas-transactions_data\",\n",
      "          \"column\": \"currency\",\n",
      "          \"type_\": \"object\"\n",
      "        },\n",
      "        \"meta\": {}\n",
      "      },\n",
      "      \"result\": {\n",
      "        \"observed_value\": \"object_\"\n",
      "      },\n",
      "      \"meta\": {},\n",
      "      \"exception_info\": {\n",
      "        \"raised_exception\": false,\n",
      "        \"exception_traceback\": null,\n",
      "        \"exception_message\": null\n",
      "      }\n",
      "    },\n",
      "    {\n",
      "      \"success\": false,\n",
      "      \"expectation_config\": {\n",
      "        \"type\": \"expect_column_distinct_values_to_be_in_set\",\n",
      "        \"kwargs\": {\n",
      "          \"batch_id\": \"pandas-transactions_data\",\n",
      "          \"column\": \"currency\",\n",
      "          \"value_set\": [\n",
      "            \"SEK\",\n",
      "            \"USD\",\n",
      "            \"EUR\",\n",
      "            \"GBP\"\n",
      "          ]\n",
      "        },\n",
      "        \"meta\": {}\n",
      "      },\n",
      "      \"result\": {\n",
      "        \"observed_value\": [\n",
      "          \"DKK\",\n",
      "          \"EUR\",\n",
      "          \"GBP\",\n",
      "          \"JPY\",\n",
      "          \"NOK\",\n",
      "          \"RMB\",\n",
      "          \"SEK\",\n",
      "          \"USD\",\n",
      "          \"ZAR\",\n",
      "          \"ZMW\"\n",
      "        ],\n",
      "        \"details\": {\n",
      "          \"value_counts\": [\n",
      "            {\n",
      "              \"value\": \"DKK\",\n",
      "              \"count\": 927\n",
      "            },\n",
      "            {\n",
      "              \"value\": \"EUR\",\n",
      "              \"count\": 1814\n",
      "            },\n",
      "            {\n",
      "              \"value\": \"GBP\",\n",
      "              \"count\": 66\n",
      "            },\n",
      "            {\n",
      "              \"value\": \"JPY\",\n",
      "              \"count\": 65\n",
      "            },\n",
      "            {\n",
      "              \"value\": \"NOK\",\n",
      "              \"count\": 956\n",
      "            },\n",
      "            {\n",
      "              \"value\": \"RMB\",\n",
      "              \"count\": 108\n",
      "            },\n",
      "            {\n",
      "              \"value\": \"SEK\",\n",
      "              \"count\": 80711\n",
      "            },\n",
      "            {\n",
      "              \"value\": \"USD\",\n",
      "              \"count\": 15221\n",
      "            },\n",
      "            {\n",
      "              \"value\": \"ZAR\",\n",
      "              \"count\": 71\n",
      "            },\n",
      "            {\n",
      "              \"value\": \"ZMW\",\n",
      "              \"count\": 61\n",
      "            }\n",
      "          ]\n",
      "        }\n",
      "      },\n",
      "      \"meta\": {},\n",
      "      \"exception_info\": {\n",
      "        \"raised_exception\": false,\n",
      "        \"exception_traceback\": null,\n",
      "        \"exception_message\": null\n",
      "      }\n",
      "    },\n",
      "    {\n",
      "      \"success\": true,\n",
      "      \"expectation_config\": {\n",
      "        \"type\": \"expect_column_values_to_not_be_null\",\n",
      "        \"kwargs\": {\n",
      "          \"batch_id\": \"pandas-transactions_data\",\n",
      "          \"column\": \"sender_account\"\n",
      "        },\n",
      "        \"meta\": {}\n",
      "      },\n",
      "      \"result\": {\n",
      "        \"element_count\": 100000,\n",
      "        \"unexpected_count\": 0,\n",
      "        \"unexpected_percent\": 0.0,\n",
      "        \"partial_unexpected_list\": []\n",
      "      },\n",
      "      \"meta\": {},\n",
      "      \"exception_info\": {\n",
      "        \"raised_exception\": false,\n",
      "        \"exception_traceback\": null,\n",
      "        \"exception_message\": null\n",
      "      }\n",
      "    },\n",
      "    {\n",
      "      \"success\": true,\n",
      "      \"expectation_config\": {\n",
      "        \"type\": \"expect_column_values_to_be_of_type\",\n",
      "        \"kwargs\": {\n",
      "          \"batch_id\": \"pandas-transactions_data\",\n",
      "          \"column\": \"sender_account\",\n",
      "          \"type_\": \"object\"\n",
      "        },\n",
      "        \"meta\": {}\n",
      "      },\n",
      "      \"result\": {\n",
      "        \"observed_value\": \"object_\"\n",
      "      },\n",
      "      \"meta\": {},\n",
      "      \"exception_info\": {\n",
      "        \"raised_exception\": false,\n",
      "        \"exception_traceback\": null,\n",
      "        \"exception_message\": null\n",
      "      }\n",
      "    },\n",
      "    {\n",
      "      \"success\": true,\n",
      "      \"expectation_config\": {\n",
      "        \"type\": \"expect_column_values_to_not_be_null\",\n",
      "        \"kwargs\": {\n",
      "          \"batch_id\": \"pandas-transactions_data\",\n",
      "          \"column\": \"receiver_account\"\n",
      "        },\n",
      "        \"meta\": {}\n",
      "      },\n",
      "      \"result\": {\n",
      "        \"element_count\": 100000,\n",
      "        \"unexpected_count\": 0,\n",
      "        \"unexpected_percent\": 0.0,\n",
      "        \"partial_unexpected_list\": []\n",
      "      },\n",
      "      \"meta\": {},\n",
      "      \"exception_info\": {\n",
      "        \"raised_exception\": false,\n",
      "        \"exception_traceback\": null,\n",
      "        \"exception_message\": null\n",
      "      }\n",
      "    },\n",
      "    {\n",
      "      \"success\": true,\n",
      "      \"expectation_config\": {\n",
      "        \"type\": \"expect_column_values_to_be_of_type\",\n",
      "        \"kwargs\": {\n",
      "          \"batch_id\": \"pandas-transactions_data\",\n",
      "          \"column\": \"receiver_account\",\n",
      "          \"type_\": \"object\"\n",
      "        },\n",
      "        \"meta\": {}\n",
      "      },\n",
      "      \"result\": {\n",
      "        \"observed_value\": \"object_\"\n",
      "      },\n",
      "      \"meta\": {},\n",
      "      \"exception_info\": {\n",
      "        \"raised_exception\": false,\n",
      "        \"exception_traceback\": null,\n",
      "        \"exception_message\": null\n",
      "      }\n",
      "    },\n",
      "    {\n",
      "      \"success\": false,\n",
      "      \"expectation_config\": {\n",
      "        \"type\": \"expect_column_values_to_not_be_null\",\n",
      "        \"kwargs\": {\n",
      "          \"batch_id\": \"pandas-transactions_data\",\n",
      "          \"column\": \"sender_country\"\n",
      "        },\n",
      "        \"meta\": {}\n",
      "      },\n",
      "      \"result\": {\n",
      "        \"element_count\": 100000,\n",
      "        \"unexpected_count\": 500,\n",
      "        \"unexpected_percent\": 0.5,\n",
      "        \"partial_unexpected_list\": [\n",
      "          null,\n",
      "          null,\n",
      "          null,\n",
      "          null,\n",
      "          null,\n",
      "          null,\n",
      "          null,\n",
      "          null,\n",
      "          null,\n",
      "          null,\n",
      "          null,\n",
      "          null,\n",
      "          null,\n",
      "          null,\n",
      "          null,\n",
      "          null,\n",
      "          null,\n",
      "          null,\n",
      "          null,\n",
      "          null\n",
      "        ]\n",
      "      },\n",
      "      \"meta\": {},\n",
      "      \"exception_info\": {\n",
      "        \"raised_exception\": false,\n",
      "        \"exception_traceback\": null,\n",
      "        \"exception_message\": null\n",
      "      }\n",
      "    },\n",
      "    {\n",
      "      \"success\": true,\n",
      "      \"expectation_config\": {\n",
      "        \"type\": \"expect_column_values_to_be_of_type\",\n",
      "        \"kwargs\": {\n",
      "          \"batch_id\": \"pandas-transactions_data\",\n",
      "          \"column\": \"sender_country\",\n",
      "          \"type_\": \"object\"\n",
      "        },\n",
      "        \"meta\": {}\n",
      "      },\n",
      "      \"result\": {\n",
      "        \"observed_value\": \"object_\"\n",
      "      },\n",
      "      \"meta\": {},\n",
      "      \"exception_info\": {\n",
      "        \"raised_exception\": false,\n",
      "        \"exception_traceback\": null,\n",
      "        \"exception_message\": null\n",
      "      }\n",
      "    },\n",
      "    {\n",
      "      \"success\": true,\n",
      "      \"expectation_config\": {\n",
      "        \"type\": \"expect_column_values_to_not_be_null\",\n",
      "        \"kwargs\": {\n",
      "          \"batch_id\": \"pandas-transactions_data\",\n",
      "          \"column\": \"transaction_type\"\n",
      "        },\n",
      "        \"meta\": {}\n",
      "      },\n",
      "      \"result\": {\n",
      "        \"element_count\": 100000,\n",
      "        \"unexpected_count\": 0,\n",
      "        \"unexpected_percent\": 0.0,\n",
      "        \"partial_unexpected_list\": []\n",
      "      },\n",
      "      \"meta\": {},\n",
      "      \"exception_info\": {\n",
      "        \"raised_exception\": false,\n",
      "        \"exception_traceback\": null,\n",
      "        \"exception_message\": null\n",
      "      }\n",
      "    },\n",
      "    {\n",
      "      \"success\": true,\n",
      "      \"expectation_config\": {\n",
      "        \"type\": \"expect_column_values_to_be_of_type\",\n",
      "        \"kwargs\": {\n",
      "          \"batch_id\": \"pandas-transactions_data\",\n",
      "          \"column\": \"transaction_type\",\n",
      "          \"type_\": \"object\"\n",
      "        },\n",
      "        \"meta\": {}\n",
      "      },\n",
      "      \"result\": {\n",
      "        \"observed_value\": \"object_\"\n",
      "      },\n",
      "      \"meta\": {},\n",
      "      \"exception_info\": {\n",
      "        \"raised_exception\": false,\n",
      "        \"exception_traceback\": null,\n",
      "        \"exception_message\": null\n",
      "      }\n",
      "    },\n",
      "    {\n",
      "      \"success\": true,\n",
      "      \"expectation_config\": {\n",
      "        \"type\": \"expect_column_values_to_be_of_type\",\n",
      "        \"kwargs\": {\n",
      "          \"batch_id\": \"pandas-transactions_data\",\n",
      "          \"column\": \"receiver_country\",\n",
      "          \"type_\": \"object\"\n",
      "        },\n",
      "        \"meta\": {}\n",
      "      },\n",
      "      \"result\": {\n",
      "        \"observed_value\": \"object_\"\n",
      "      },\n",
      "      \"meta\": {},\n",
      "      \"exception_info\": {\n",
      "        \"raised_exception\": false,\n",
      "        \"exception_traceback\": null,\n",
      "        \"exception_message\": null\n",
      "      }\n",
      "    },\n",
      "    {\n",
      "      \"success\": true,\n",
      "      \"expectation_config\": {\n",
      "        \"type\": \"expect_column_values_to_be_of_type\",\n",
      "        \"kwargs\": {\n",
      "          \"batch_id\": \"pandas-transactions_data\",\n",
      "          \"column\": \"notes\",\n",
      "          \"type_\": \"object\"\n",
      "        },\n",
      "        \"meta\": {}\n",
      "      },\n",
      "      \"result\": {\n",
      "        \"observed_value\": \"object_\"\n",
      "      },\n",
      "      \"meta\": {},\n",
      "      \"exception_info\": {\n",
      "        \"raised_exception\": false,\n",
      "        \"exception_traceback\": null,\n",
      "        \"exception_message\": null\n",
      "      }\n",
      "    }\n",
      "  ],\n",
      "  \"suite_name\": \"transactions_suite\",\n",
      "  \"suite_parameters\": {},\n",
      "  \"statistics\": {\n",
      "    \"evaluated_expectations\": 21,\n",
      "    \"successful_expectations\": 19,\n",
      "    \"unsuccessful_expectations\": 2,\n",
      "    \"success_percent\": 90.47619047619048\n",
      "  },\n",
      "  \"meta\": {\n",
      "    \"great_expectations_version\": \"1.4.4\",\n",
      "    \"expectation_suite_name\": \"transactions_suite\",\n",
      "    \"run_id\": {\n",
      "      \"run_name\": null,\n",
      "      \"run_time\": \"2025-05-28T22:12:14.237435+02:00\"\n",
      "    },\n",
      "    \"batch_spec\": {\n",
      "      \"batch_data\": \"PandasDataFrame\"\n",
      "    },\n",
      "    \"batch_markers\": {\n",
      "      \"ge_load_time\": \"20250528T201213.869754Z\",\n",
      "      \"pandas_data_fingerprint\": \"7e147d56476d54fc5bfd15cdc8e3abd5\"\n",
      "    },\n",
      "    \"active_batch_definition\": {\n",
      "      \"datasource_name\": \"pandas\",\n",
      "      \"data_connector_name\": \"fluent\",\n",
      "      \"data_asset_name\": \"transactions_data\",\n",
      "      \"batch_identifiers\": {\n",
      "        \"dataframe\": \"<DATAFRAME>\"\n",
      "      }\n",
      "    },\n",
      "    \"validation_time\": \"20250528T201214.237393Z\",\n",
      "    \"checkpoint_name\": null\n",
      "  },\n",
      "  \"id\": null\n",
      "}\n"
     ]
    }
   ],
   "execution_count": 6
  },
  {
   "cell_type": "code",
   "execution_count": null,
   "id": "437561be",
   "metadata": {},
   "outputs": [],
   "source": ""
  }
 ],
 "metadata": {
  "kernelspec": {
   "display_name": "Python 3",
   "language": "python",
   "name": "python3"
  },
  "language_info": {
   "codemirror_mode": {
    "name": "ipython",
    "version": 2
   },
   "file_extension": ".py",
   "mimetype": "text/x-python",
   "name": "python",
   "nbconvert_exporter": "python",
   "pygments_lexer": "ipython2",
   "version": "2.7.6"
  }
 },
 "nbformat": 4,
 "nbformat_minor": 5
}
