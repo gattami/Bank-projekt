{
 "cells": [
  {
   "metadata": {
    "jupyter": {
     "is_executing": true
    }
   },
   "cell_type": "code",
   "source": [
    "# -----------------------------------------------\n",
    "# Steg 1: Utforska och kartlägg transaktionsdata\n",
    "# -----------------------------------------------\n",
    "\n",
    "import great_expectations as gx\n",
    "import pandas as pd\n",
    "import warnings\n",
    "warnings.filterwarnings(\"ignore\", message=\"`result_format` configured at the Validator-level*\")\n",
    "\n",
    "# Läs in datafilen\n",
    "df = pd.read_csv(\"data/transactions_original.csv\")\n",
    "\n",
    "# Visa de första fem raderna\n",
    "print(\"✅ Första fem raderna i datan:\")\n",
    "print(df.head())\n",
    "\n",
    "# Visa kolumnnamn\n",
    "print(\"\\n📌 Kolumnnamn:\")\n",
    "print(df.columns)\n",
    "\n",
    "# Visa datatyper\n",
    "print(\"\\n📌 Datatyper:\")\n",
    "print(df.dtypes)\n",
    "\n",
    "# Kontrollera om det finns null-värden\n",
    "print(\"\\n📌 Antal null-värden per kolumn:\")\n",
    "print(df.isnull().sum())\n"
   ],
   "id": "9b161146e31e5eaa",
   "outputs": [],
   "execution_count": null
  },
  {
   "metadata": {
    "jupyter": {
     "is_executing": true
    }
   },
   "cell_type": "code",
   "source": "",
   "id": "482eb41bb25de865",
   "outputs": [],
   "execution_count": null
  },
  {
   "metadata": {
    "jupyter": {
     "is_executing": true
    }
   },
   "cell_type": "code",
   "source": "",
   "id": "a81b1767e7b727b7",
   "outputs": [],
   "execution_count": null
  },
  {
   "metadata": {
    "jupyter": {
     "is_executing": true
    }
   },
   "cell_type": "code",
   "source": "",
   "id": "b1910fb80ec98022",
   "outputs": [],
   "execution_count": null
  },
  {
   "metadata": {},
   "cell_type": "code",
   "outputs": [],
   "execution_count": null,
   "source": "",
   "id": "34b495f4fca91d3f"
  },
  {
   "metadata": {
    "jupyter": {
     "is_executing": true
    }
   },
   "cell_type": "code",
   "source": "",
   "id": "a2320560e6caab6e",
   "outputs": [],
   "execution_count": null
  }
 ],
 "metadata": {
  "kernelspec": {
   "display_name": "Python 3",
   "language": "python",
   "name": "python3"
  },
  "language_info": {
   "codemirror_mode": {
    "name": "ipython",
    "version": 2
   },
   "file_extension": ".py",
   "mimetype": "text/x-python",
   "name": "python",
   "nbconvert_exporter": "python",
   "pygments_lexer": "ipython2",
   "version": "2.7.6"
  }
 },
 "nbformat": 4,
 "nbformat_minor": 5
}
