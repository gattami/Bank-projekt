{
 "cells": [
  {
   "metadata": {},
   "cell_type": "code",
   "outputs": [],
   "execution_count": null,
   "source": "",
   "id": "2859484a6796894e"
  },
  {
   "metadata": {
    "ExecuteTime": {
     "end_time": "2025-06-02T11:35:29.589638Z",
     "start_time": "2025-06-02T11:34:31.753074Z"
    }
   },
   "cell_type": "code",
   "source": [
    "from pydantic import BaseModel, ValidationError, condecimal\n",
    "from typing import List\n",
    "from datetime import datetime\n",
    "import pandas as pd\n",
    "\n",
    "# Определяем модель Pydantic\n",
    "class Transaction(BaseModel):\n",
    "    sender_account: str\n",
    "    receiver_account: str\n",
    "    amount: condecimal(gt=0)\n",
    "    currency: str\n",
    "    timestamp: datetime\n",
    "\n",
    "\n",
    "# Загружаем CSV\n",
    "df = pd.read_csv(\"data/transactions.csv\")\n",
    "\n",
    "valid_rows = []\n",
    "invalid_rows = []\n",
    "\n",
    "# Проверяем каждую строку через Pydantic\n",
    "for i, row in df.iterrows():\n",
    "    try:\n",
    "        tx = Transaction(**row.to_dict())\n",
    "        valid_rows.append(row)\n",
    "    except ValidationError as e:\n",
    "        error_row = row.copy()\n",
    "        error_row[\"error\"] = str(e)\n",
    "        invalid_rows.append(error_row)\n",
    "\n",
    "# Преобразуем в отдельные DataFrame'ы\n",
    "df_valid = pd.DataFrame(valid_rows)\n",
    "df_invalid = pd.DataFrame(invalid_rows)\n",
    "\n",
    "# Сохраняем результат\n",
    "df_valid.to_csv(\"output/valid_transactions.csv\", index=False)\n",
    "df_invalid.to_csv(\"output/invalid_transactions.csv\", index=False)\n",
    "\n",
    "print(f\"✅ Всего строк: {len(df)}\")\n",
    "print(f\"✅ Валидные: {len(df_valid)}\")\n",
    "print(f\"❌ Невалидные: {len(df_invalid)} (сохранены в output/invalid_transactions.csv)\")\n"
   ],
   "id": "1aa88452e57dd8df",
   "outputs": [
    {
     "name": "stdout",
     "output_type": "stream",
     "text": [
      "✅ Всего строк: 100000\n",
      "✅ Валидные: 0\n",
      "❌ Невалидные: 100000 (сохранены в output/invalid_transactions.csv)\n"
     ]
    }
   ],
   "execution_count": 4
  },
  {
   "metadata": {
    "ExecuteTime": {
     "end_time": "2025-06-02T11:35:57.397249Z",
     "start_time": "2025-06-02T11:35:57.383493Z"
    }
   },
   "cell_type": "code",
   "source": [
    "import os\n",
    "\n",
    "os.remove(\"output/valid_transactions.csv\")\n",
    "os.remove(\"output/invalid_transactions.csv\")\n"
   ],
   "id": "5fb19a2fd89e20fb",
   "outputs": [],
   "execution_count": 5
  }
 ],
 "metadata": {
  "kernelspec": {
   "name": "python3",
   "language": "python",
   "display_name": "Python 3 (ipykernel)"
  }
 },
 "nbformat": 5,
 "nbformat_minor": 9
}
